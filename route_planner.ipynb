{
  "cells": [
    {
      "cell_type": "code",
      "execution_count": null,
      "metadata": {
        "id": "QcdJ04pvn9hQ",
        "outputId": "f9f86505-f4c3-4184-df6f-6f291fcbf7dd"
      },
      "outputs": [
        {
          "data": {
            "text/html": [
              "<script>requirejs.config({paths: { 'plotly': ['https://cdn.plot.ly/plotly-latest.min']},});if(!window.Plotly) {{require(['plotly'],function(plotly) {window.Plotly=plotly;});}}</script>"
            ],
            "text/vnd.plotly.v1+html": [
              "<script>requirejs.config({paths: { 'plotly': ['https://cdn.plot.ly/plotly-latest.min']},});if(!window.Plotly) {{require(['plotly'],function(plotly) {window.Plotly=plotly;});}}</script>"
            ]
          },
          "metadata": {},
          "output_type": "display_data"
        }
      ],
      "source": [
        "from helpers import Map, load_map_10, load_map_40, show_map\n",
        "import math\n",
        "\n",
        "%load_ext autoreload\n",
        "%autoreload 2"
      ]
    },
    {
      "cell_type": "code",
      "source": [
        "map_10 = load_map_10()"
      ],
      "metadata": {
        "id": "Tt3INxz4oDeZ"
      },
      "execution_count": null,
      "outputs": []
    },
    {
      "cell_type": "code",
      "execution_count": null,
      "metadata": {
        "id": "9Al1EMenn9hT",
        "outputId": "cb5400e9-99ef-48e3-f652-0b9ee84f0ecb"
      },
      "outputs": [
        {
          "data": {
            "text/plain": [
              "{0: (0.7798606835438107, 0.6922727646627362),\n",
              " 1: (0.7647837074641568, 0.3252670836724646),\n",
              " 2: (0.7155217893995438, 0.20026498027300055),\n",
              " 3: (0.7076566826610747, 0.3278339270610988),\n",
              " 4: (0.8325506249953353, 0.02310946309985762),\n",
              " 5: (0.49016747075266875, 0.5464878695400415),\n",
              " 6: (0.8820353070895344, 0.6791919587749445),\n",
              " 7: (0.46247219371675075, 0.6258061621642713),\n",
              " 8: (0.11622158839385677, 0.11236327488812581),\n",
              " 9: (0.1285377678230034, 0.3285840695698353)}"
            ]
          },
          "execution_count": 3,
          "metadata": {},
          "output_type": "execute_result"
        }
      ],
      "source": [
        "map_10.intersections"
      ]
    },
    {
      "cell_type": "code",
      "execution_count": null,
      "metadata": {
        "id": "td8rKs9en9hU",
        "outputId": "5bdafaa9-1d2c-484d-b6b3-e84a8c0b78fd"
      },
      "outputs": [
        {
          "data": {
            "text/plain": [
              "[7, 6, 5]"
            ]
          },
          "execution_count": 4,
          "metadata": {},
          "output_type": "execute_result"
        }
      ],
      "source": [
        "# intersection 0 connects to intersections 7, 6, and 5\n",
        "map_10.roads[0] "
      ]
    },
    {
      "cell_type": "code",
      "execution_count": null,
      "metadata": {
        "id": "By0x9Jtbn9hU",
        "outputId": "5e01b93a-b4a2-4c18-890a-76a9a33aaff3"
      },
      "outputs": [
        {
          "data": {
            "text/plain": [
              "[[7, 6, 5],\n",
              " [4, 3, 2],\n",
              " [1, 4, 3],\n",
              " [1, 2, 5, 4],\n",
              " [1, 2, 3],\n",
              " [0, 3, 7],\n",
              " [0],\n",
              " [0, 5],\n",
              " [9],\n",
              " [8]]"
            ]
          },
          "execution_count": 5,
          "metadata": {},
          "output_type": "execute_result"
        }
      ],
      "source": [
        "# full connectivity \n",
        "map_10.roads"
      ]
    },
    {
      "cell_type": "code",
      "source": [
        "map_40 = load_map_40()"
      ],
      "metadata": {
        "id": "9PJ7G3S-oN-y"
      },
      "execution_count": null,
      "outputs": []
    },
    {
      "cell_type": "code",
      "source": [
        "show_map(map_40, start=5, goal=34, path=[5,16,37,12,34])"
      ],
      "metadata": {
        "id": "j7PGX83fociB"
      },
      "execution_count": null,
      "outputs": []
    },
    {
      "cell_type": "code",
      "execution_count": null,
      "metadata": {
        "id": "uP5aZbjKn9ha"
      },
      "outputs": [],
      "source": [
        "def set_map(self, M):\n",
        "    \"\"\"Method used to set map attribute \"\"\"\n",
        "    self._reset(self)\n",
        "    self.start = None\n",
        "    self.goal = None\n",
        "    self.map = M\n"
      ]
    },
    {
      "cell_type": "code",
      "execution_count": null,
      "metadata": {
        "id": "6OxgkMRHn9ha"
      },
      "outputs": [],
      "source": [
        "def set_start(self, start):\n",
        "    \"\"\"Method used to set start attribute \"\"\"\n",
        "    self._reset(self)\n",
        "    self.goal = None\n",
        "    self.start = start\n",
        "    "
      ]
    },
    {
      "cell_type": "code",
      "execution_count": null,
      "metadata": {
        "id": "1lTMg33Wn9hb"
      },
      "outputs": [],
      "source": [
        "def distance(self, node_1, node_2):\n",
        "    \"\"\" Computes and returns the Euclidean L2 Distance\"\"\"\n",
        "    x1,y1 = self.map.intersections[node_1]\n",
        "    x2,y2 = self.map.intersections[node_2]\n",
        "    dx = x2 - x1 \n",
        "    dy = y2 - y1\n",
        "    return math.sqrt(dx**2 + dy**2)\n"
      ]
    },
    {
      "cell_type": "code",
      "execution_count": null,
      "metadata": {
        "id": "HrD1qkpbn9hc"
      },
      "outputs": [],
      "source": [
        "def record_best_path_to(self, current, neighbor):\n",
        "    \"\"\"Record the best path to a node by updating cameFrom, gScore, and fScore\"\"\"\n",
        "    self.cameFrom[neighbor] = current\n",
        "    if self.gScore[neighbor] == float('inf'): #newly discovered neighbor's gScore previously initialized as infinity\n",
        "        self.gScore[neighbor] = self.gScore[current] #neighbor's gScore in gScore dictionary initialized with current node's gScore\n",
        "    self.gScore[neighbor] = self.get_tentative_gScore(current,neighbor)\n",
        "    F = self.calculate_fscore(neighbor)\n",
        "    self.fScore.put((F,neighbor))\n"
      ]
    },
    {
      "cell_type": "code",
      "execution_count": null,
      "metadata": {
        "id": "NfdJSX4Un9hX"
      },
      "outputs": [],
      "source": [
        "from queue import PriorityQueue\n",
        "class PathPlanner():\n",
        "    def __init__(self, M, start=None, goal=None):\n",
        "        self.map = M\n",
        "        self.start= start\n",
        "        self.goal = goal\n",
        "        self.closedSet = self.create_closedSet() if goal != None and start != None else None\n",
        "        self.openSet = self.create_openSet() if goal != None and start != None else None\n",
        "        self.cameFrom = self.create_cameFrom() if goal != None and start != None else None\n",
        "        self.gScore = self.create_gScore() if goal != None and start != None else None\n",
        "        self.fScore = self.create_fScore() if goal != None and start != None else None\n",
        "        self.path = self.run_search() if self.map and self.start != None and self.goal != None else None\n",
        "    \n",
        "    def reconstruct_path(self, current):\n",
        "        total_path = [current]\n",
        "        while current in self.cameFrom.keys():\n",
        "            current = self.cameFrom[current]\n",
        "            total_path.append(current)\n",
        "        return total_path\n",
        "    \n",
        "    def _reset(self):\n",
        "        self.closedSet = None\n",
        "        self.openSet = None\n",
        "        self.cameFrom = None\n",
        "        self.gScore = None\n",
        "        self.fScore = None\n",
        "        self.path = self.run_search() if self.map and self.start and self.goal else None\n",
        "\n",
        "    def run_search(self):\n",
        "        \"\"\" \"\"\"\n",
        "        if self.map == None:\n",
        "            raise(ValueError, \"Must create map before running search. Try running PathPlanner.set_map(start_node)\")\n",
        "        if self.goal == None:\n",
        "            raise(ValueError, \"Must create goal node before running search. Try running PathPlanner.set_goal(start_node)\")\n",
        "        if self.start == None:\n",
        "            raise(ValueError, \"Must create start node before running search. Try running PathPlanner.set_start(start_node)\")\n",
        "\n",
        "        self.closedSet = self.closedSet if self.closedSet != None else self.create_closedSet()\n",
        "        self.openSet = self.openSet if self.openSet != None else  self.create_openSet()\n",
        "        self.cameFrom = self.cameFrom if self.cameFrom != None else  self.create_cameFrom()\n",
        "        self.gScore = self.gScore if self.gScore != None else  self.create_gScore()\n",
        "        self.fScore = self.fScore if self.fScore != None else  self.create_fScore()\n",
        "\n",
        "        while not self.is_open_empty():\n",
        "            current = self.get_current_node()\n",
        "            if current == self.goal:\n",
        "                self.path = [x for x in reversed(self.reconstruct_path(current))]\n",
        "                return self.path\n",
        "            else:\n",
        "                self.openSet.remove(current)\n",
        "                self.closedSet.add(current)\n",
        "\n",
        "            for neighbor in self.get_neighbors(current):\n",
        "                if neighbor in self.closedSet:\n",
        "                    continue    \n",
        "\n",
        "                if not neighbor in self.openSet:    \n",
        "                    self.openSet.add(neighbor)\n",
        "                \n",
        "                # The distance from start to a neighbor\n",
        "                #the \"dist_between\" function may vary as per the solution requirements.\n",
        "                if self.get_tentative_gScore(current, neighbor) >= self.get_gScore(neighbor):\n",
        "                    continue        # This is not a better path.\n",
        "\n",
        "                # This path is the best until now. Record it!\n",
        "                self.record_best_path_to(current, neighbor)\n",
        "        print(\"No Path Found\")\n",
        "        self.path = None\n",
        "        return False"
      ]
    },
    {
      "cell_type": "code",
      "execution_count": null,
      "metadata": {
        "id": "rtII_7M4n9ha"
      },
      "outputs": [],
      "source": [
        "def set_goal(self, goal):\n",
        "    \"\"\"Method used to set goal attribute \"\"\"\n",
        "    self._reset(self)\n",
        "    self.goal = goal\n"
      ]
    },
    {
      "cell_type": "code",
      "execution_count": null,
      "metadata": {
        "id": "S06Oc4Avn9hd",
        "outputId": "39258c63-6f0c-49c3-8f21-220590e4d8a4"
      },
      "outputs": [
        {
          "name": "stdout",
          "output_type": "stream",
          "text": [
            "great! Your code works for these inputs!\n"
          ]
        }
      ],
      "source": [
        "planner = PathPlanner(map_40, 5, 34)\n",
        "path = planner.path\n",
        "if path == [5, 16, 37, 12, 34]:\n",
        "    print(\"great! Your code works for these inputs!\")\n",
        "else:\n",
        "    print(\"something is off, your code produced the following:\")\n",
        "    print(path)"
      ]
    },
    {
      "cell_type": "code",
      "source": [
        "start = 5\n",
        "goal = 34\n",
        "\n",
        "show_map(map_40, start=start, goal=goal, path=PathPlanner(map_40, start, goal).path)"
      ],
      "metadata": {
        "id": "apJq08JgDdK5"
      },
      "execution_count": null,
      "outputs": []
    },
    {
      "cell_type": "code",
      "execution_count": null,
      "metadata": {
        "id": "IhNKy60fn9hd",
        "outputId": "e33d2b7c-be40-498a-e06a-6e352ec94540"
      },
      "outputs": [
        {
          "name": "stdout",
          "output_type": "stream",
          "text": [
            "All tests pass! Congratulations!\n"
          ]
        }
      ],
      "source": [
        "from test import test\n",
        "\n",
        "test(PathPlanner)"
      ]
    },
    {
      "cell_type": "markdown",
      "metadata": {
        "id": "JYXfWO7jn9hf"
      },
      "source": [
        "---"
      ]
    }
  ],
  "metadata": {
    "kernelspec": {
      "display_name": "Python 3",
      "language": "python",
      "name": "python3"
    },
    "language_info": {
      "codemirror_mode": {
        "name": "ipython",
        "version": 3
      },
      "file_extension": ".py",
      "mimetype": "text/x-python",
      "name": "python",
      "nbconvert_exporter": "python",
      "pygments_lexer": "ipython3",
      "version": "3.6.3"
    },
    "colab": {
      "name": "route_planner.ipynb",
      "provenance": []
    }
  },
  "nbformat": 4,
  "nbformat_minor": 0
}